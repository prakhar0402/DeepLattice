{
 "cells": [
  {
   "cell_type": "code",
   "execution_count": 1,
   "metadata": {},
   "outputs": [],
   "source": [
    "import numpy as np\n",
    "import matplotlib.pyplot as plt\n",
    "from skimage import measure\n",
    "from mpl_toolkits.mplot3d.art3d import Poly3DCollection\n",
    "from stl import mesh\n",
    "\n",
    "%matplotlib inline"
   ]
  },
  {
   "cell_type": "code",
   "execution_count": 2,
   "metadata": {
    "collapsed": true
   },
   "outputs": [],
   "source": [
    "domainSz = np.array([150, 50, 50]) # in mm"
   ]
  },
  {
   "cell_type": "code",
   "execution_count": 3,
   "metadata": {
    "collapsed": true
   },
   "outputs": [],
   "source": [
    "cellSz = np.array([10, 10, 10]) # in mm\n",
    "numCells = (domainSz//cellSz).astype(int) # TODO: ensure domainSz is divisible by cellSz\n",
    "\n",
    "voxelSz = np.array([1, 1, 1]) # in mm\n",
    "numVoxels = (cellSz//voxelSz).astype(int)"
   ]
  },
  {
   "cell_type": "code",
   "execution_count": 5,
   "metadata": {},
   "outputs": [],
   "source": [
    "paramsDim = 1 # number of parameters for each cell\n",
    "params = 5*np.ones(np.append(numCells, paramsDim))"
   ]
  },
  {
   "cell_type": "code",
   "execution_count": 6,
   "metadata": {
    "collapsed": true
   },
   "outputs": [],
   "source": [
    "cells = np.zeros(numCells)\n",
    "x_c, y_c, z_c = np.meshgrid(range(numCells[0])*cellSz[0], \n",
    "                            range(numCells[1])*cellSz[1], \n",
    "                            range(numCells[2])*cellSz[2], indexing='ij')\n",
    "\n",
    "voxels = np.zeros(numVoxels)\n",
    "x_v, y_v, z_v = np.meshgrid(range(numVoxels[0])*voxelSz[0] + voxelSz[0]/2, \n",
    "                            range(numVoxels[1])*voxelSz[1] + voxelSz[1]/2, \n",
    "                            range(numVoxels[2])*voxelSz[2] + voxelSz[2]/2, indexing='ij')"
   ]
  },
  {
   "cell_type": "code",
   "execution_count": 33,
   "metadata": {
    "collapsed": true
   },
   "outputs": [],
   "source": [
    "field = np.zeros(numCells*numVoxels)\n",
    "for i in range(numCells[0]):\n",
    "    for j in range(numCells[1]):\n",
    "        for k in range(numCells[2]):\n",
    "            p = params[i, j, k]\n",
    "            # voxels center coordinates\n",
    "            x = x_v + x_c[i, j, k]\n",
    "            y = y_v + y_c[i, j, k]\n",
    "            z = z_v + z_c[i, j, k]\n",
    "            # cell center coordinates\n",
    "            xx = x_c[i, j, k] + cellSz[0]/2\n",
    "            yy = y_c[i, j, k] + cellSz[1]/2\n",
    "            zz = z_c[i, j, k] + cellSz[2]/2\n",
    "            # calculate distance field\n",
    "            cell = np.sqrt((x - xx)**2 + (y - yy)**2 + (z - zz)**2) - p\n",
    "            field[i*numVoxels[0]:(i+1)*numVoxels[0], \n",
    "                  j*numVoxels[1]:(j+1)*numVoxels[1], \n",
    "                  k*numVoxels[2]:(k+1)*numVoxels[2]] += cell"
   ]
  },
  {
   "cell_type": "code",
   "execution_count": 34,
   "metadata": {},
   "outputs": [
    {
     "data": {
      "image/png": "[encoded data removed]",
      "text/plain": [
       "<matplotlib.figure.Figure at 0x1d620c9acc0>"
      ]
     },
     "metadata": {},
     "output_type": "display_data"
    }
   ],
   "source": [
    "field = np.pad(field, 1, 'constant', constant_values = -0.5)\n",
    "\n",
    "\n",
    "plt.matshow(field[8, :, :])\n",
    "plt.colorbar()\n",
    "plt.show()"
   ]
  },
  {
   "cell_type": "code",
   "execution_count": null,
   "metadata": {
    "collapsed": true
   },
   "outputs": [],
   "source": []
  },
  {
   "cell_type": "code",
   "execution_count": 35,
   "metadata": {
    "collapsed": true
   },
   "outputs": [],
   "source": [
    "verts, faces, normals, values = measure.marching_cubes_lewiner(field, -0.5)"
   ]
  },
  {
   "cell_type": "code",
   "execution_count": 36,
   "metadata": {},
   "outputs": [],
   "source": [
    "msh = mesh.Mesh(np.zeros(faces.shape[0], dtype=mesh.Mesh.dtype))\n",
    "for i, f in enumerate(faces):\n",
    "    for j in range(3):\n",
    "        msh.vectors[i][j] = verts[f[j],:]\n",
    "msh.save('lattice.stl')"
   ]
  },
  {
   "cell_type": "code",
   "execution_count": null,
   "metadata": {},
   "outputs": [],
   "source": []
  },
  {
   "cell_type": "code",
   "execution_count": null,
   "metadata": {
    "collapsed": true
   },
   "outputs": [],
   "source": []
  }
 ],
 "metadata": {
  "kernelspec": {
   "display_name": "Python 3",
   "language": "python",
   "name": "python3"
  },
  "language_info": {
   "codemirror_mode": {
    "name": "ipython",
    "version": 3
   },
   "file_extension": ".py",
   "mimetype": "text/x-python",
   "name": "python",
   "nbconvert_exporter": "python",
   "pygments_lexer": "ipython3",
   "version": "3.6.2"
  }
 },
 "nbformat": 4,
 "nbformat_minor": 2
}

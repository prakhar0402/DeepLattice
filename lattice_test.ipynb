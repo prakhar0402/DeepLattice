{
 "cells": [
  {
   "cell_type": "code",
   "execution_count": 1,
   "metadata": {
    "collapsed": true
   },
   "outputs": [],
   "source": [
    "import numpy as np\n",
    "import matplotlib.pyplot as plt\n",
    "\n",
    "%matplotlib inline"
   ]
  },
  {
   "cell_type": "code",
   "execution_count": 3,
   "metadata": {
    "collapsed": true
   },
   "outputs": [],
   "source": [
    "domainSz = np.array([150, 50, 50]) # in mm"
   ]
  },
  {
   "cell_type": "code",
   "execution_count": 4,
   "metadata": {},
   "outputs": [],
   "source": [
    "cellSz = np.array([10, 10, 10]) # in mm\n",
    "numCells = (domainSz//cellSz).astype(int) # TODO: ensure domainSz is divisible by cellSz\n",
    "\n",
    "voxelSz = np.array([1, 1, 1]) # in mm\n",
    "#voxelSz = np.array([0.5, 0.5, 0.5]) # in mm\n",
    "numVoxels = (cellSz//voxelSz).astype(int) # in each cell/unit"
   ]
  },
  {
   "cell_type": "code",
   "execution_count": 5,
   "metadata": {
    "collapsed": true
   },
   "outputs": [],
   "source": [
    "paramsDim = 1 # number of parameters for each cell\n",
    "params = 2.5*np.ones(np.append(numCells, paramsDim))"
   ]
  },
  {
   "cell_type": "code",
   "execution_count": 6,
   "metadata": {
    "collapsed": true
   },
   "outputs": [],
   "source": [
    "# origin coordinates of cells\n",
    "x_c, y_c, z_c = np.meshgrid(range(numCells[0])*cellSz[0], \n",
    "                            range(numCells[1])*cellSz[1], \n",
    "                            range(numCells[2])*cellSz[2], indexing='ij')\n",
    "\n",
    "# voxel center coordinates relative to cell origin\n",
    "x_v, y_v, z_v = np.meshgrid(range(numVoxels[0])*voxelSz[0] + voxelSz[0]/2, \n",
    "                            range(numVoxels[1])*voxelSz[1] + voxelSz[1]/2, \n",
    "                            range(numVoxels[2])*voxelSz[2] + voxelSz[2]/2, indexing='ij')"
   ]
  },
  {
   "cell_type": "code",
   "execution_count": 7,
   "metadata": {
    "collapsed": true
   },
   "outputs": [],
   "source": [
    "field = np.zeros(numCells*numVoxels)\n",
    "holes = np.zeros((np.prod(numCells), 3)) # hole coordinates in the cells, only for this type of cells\n",
    "hh = 0\n",
    "# TODO: make more efficient by doing vectorized computations outside loop\n",
    "for i in range(numCells[0]):\n",
    "    for j in range(numCells[1]):\n",
    "        for k in range(numCells[2]):\n",
    "            p = params[i, j, k]\n",
    "            # voxel center global coordinates\n",
    "            x = x_v + x_c[i, j, k]\n",
    "            y = y_v + y_c[i, j, k]\n",
    "            z = z_v + z_c[i, j, k]\n",
    "            # cell center coordinates\n",
    "            xx = x_c[i, j, k] + cellSz[0]/2\n",
    "            yy = y_c[i, j, k] + cellSz[1]/2\n",
    "            zz = z_c[i, j, k] + cellSz[2]/2\n",
    "            holes[hh] = [xx, yy, zz]\n",
    "            hh += 1\n",
    "            # calculate distance field\n",
    "            cell = np.sqrt((x - xx)**2 + (y - yy)**2 + (z - zz)**2) - p\n",
    "            field[i*numVoxels[0]:(i+1)*numVoxels[0], \n",
    "                  j*numVoxels[1]:(j+1)*numVoxels[1], \n",
    "                  k*numVoxels[2]:(k+1)*numVoxels[2]] += cell"
   ]
  },
  {
   "cell_type": "code",
   "execution_count": 9,
   "metadata": {},
   "outputs": [
    {
     "name": "stdout",
     "output_type": "stream",
     "text": [
      "Field converted to Surf!\n",
      "Surf converted to INP\n",
      "Field converted to INP\n"
     ]
    }
   ],
   "source": [
    "from lattice import field_to_inp\n",
    "\n",
    "field_to_inp(field, \"data/lattice.inp\", holes, 0., voxelSz)"
   ]
  },
  {
   "cell_type": "code",
   "execution_count": null,
   "metadata": {
    "collapsed": true
   },
   "outputs": [],
   "source": [
    "# ALL FOLLOWING CELLS ONLY FOR TEXTING\n",
    "\n",
    "\n",
    "field = np.pad(field, 1, 'constant', constant_values = 0.)\n",
    "\n",
    "#plt.matshow(field[8, :, :])\n",
    "#plt.colorbar()\n",
    "#plt.show()"
   ]
  },
  {
   "cell_type": "code",
   "execution_count": null,
   "metadata": {
    "collapsed": true
   },
   "outputs": [],
   "source": [
    "surf_mesh = trimesh.Trimesh(verts, faces)\n",
    "\n",
    "surf_mesh.export('data/lattice.stl', 'stl_ascii')\n",
    "#surf_mesh.show()"
   ]
  },
  {
   "cell_type": "code",
   "execution_count": null,
   "metadata": {
    "collapsed": true
   },
   "outputs": [],
   "source": [
    "# Jun Test Case\n",
    "surf_mesh = trimesh.load('data/SVLP_f1_R40.stl')\n",
    "\n",
    "verts = surf_mesh.vertices\n",
    "faces = surf_mesh.faces\n",
    "\n",
    "faces = np.fliplr(faces)\n",
    "\n",
    "holes = []"
   ]
  },
  {
   "cell_type": "code",
   "execution_count": null,
   "metadata": {
    "collapsed": true
   },
   "outputs": [],
   "source": [
    "from meshpy.tet import MeshInfo, build\n",
    "from meshpy.geometry import GeometryBuilder"
   ]
  },
  {
   "cell_type": "code",
   "execution_count": null,
   "metadata": {
    "collapsed": true
   },
   "outputs": [],
   "source": [
    "builder = GeometryBuilder()\n",
    "builder.add_geometry(\n",
    "    points=verts.tolist(),\n",
    "    facets=faces.tolist())\n",
    "builder.wrap_in_box(1)\n",
    "\n",
    "mi = MeshInfo()\n",
    "builder.set(mi)\n",
    "mi.set_holes(holes)\n",
    "mesh = build(mi)\n",
    "print(\"%d elements\" % len(mesh.elements))\n",
    "#mesh.write_vtk(\"out.vtk\")"
   ]
  },
  {
   "cell_type": "code",
   "execution_count": null,
   "metadata": {
    "collapsed": true
   },
   "outputs": [],
   "source": [
    "def header(outFile, commentLine, keywordLine):\n",
    "    \"\"\"Writes header on file object\n",
    "\n",
    "    outFile, file object: already opened file object to write\n",
    "    commentLine, str: string which goes in as comment\n",
    "    keywordLine, str: keyword line with parameters (if required)\n",
    "    Examples\n",
    "    >>> header(testfile, \"Nodal Coordinates\", \"NODE\")\n",
    "    >>> header(testfile, \"Elements\", \"ELEMENT, TYPE=S4\")\n",
    "    \"\"\"\n",
    "    outFile.write(\"**\\n\")\n",
    "    outFile.write(\"%s\\n\" %(\"*\"*(len(commentLine) + 3)))\n",
    "    outFile.write(\"** %s\\n\" %(commentLine))\n",
    "    outFile.write(\"%s\\n\" %(\"*\"*(len(commentLine) + 3)))\n",
    "    outFile.write(\"*%s\\n\" %(keywordLine))"
   ]
  },
  {
   "cell_type": "code",
   "execution_count": null,
   "metadata": {
    "collapsed": true
   },
   "outputs": [],
   "source": [
    "def writeNodeLine(outFile, nodeNumber, coords):\n",
    "    \"\"\"Writes the nodal coordinates line in Abq format, doesnt return anything\n",
    "\n",
    "    outFile, file object: already opened file object to write\n",
    "    nodeNumber, int: node number\n",
    "    coords, list of float: list of coordinates of current node(<x1>,<x2>,<x3>)\n",
    "    \"\"\"\n",
    "    outFile.write(\"%d, %g, %g, %g\\n\" %(nodeNumber, coords[0],\n",
    "                                                      coords[1], coords[2]))\n",
    "# Similarly for Element definition\n",
    "def writeElemLine(outFile, elemNumber, nodalCnvty):\n",
    "    \"\"\"Writes the Element line in Abq format, doesnt return anything; This is\n",
    "    valid only for 4 noded shell elements.\n",
    "\n",
    "    outFile, file object: already opened file object to write\n",
    "    elemNumber, int: Element number\n",
    "    nodalCnvty, list of int: Nodal connectivity of current element (<node1>,\n",
    "                            <node2>, <node3>, <node4>)\n",
    "    \"\"\"\n",
    "    outFile.write(\"%d, %d, %d, %d, %d\\n\" %(elemNumber, \\\n",
    "                nodalCnvty[0], nodalCnvty[1], nodalCnvty[2], nodalCnvty[3]))"
   ]
  },
  {
   "cell_type": "code",
   "execution_count": null,
   "metadata": {
    "collapsed": true
   },
   "outputs": [],
   "source": [
    "nodes = np.asarray(mesh.points)\n",
    "elems = np.asarray(mesh.elements) + 1\n",
    "\n",
    "with open(\"data/lattice.inp\", \"w\") as inp:\n",
    "    header(inp, \"Nodal Coordinates\", \"NODE\")    # Write node header\n",
    "    # write nodes\n",
    "    for i  in range(nodes.shape[0]):\n",
    "        writeNodeLine(inp, i+1, nodes[i])\n",
    "\n",
    "    inp.write(\"\\n\")\n",
    "    header(inp, \"Elements\", \"ELEMENT, TYPE=C3D4\")    # Write Element header\n",
    "    for i  in range(elems.shape[0]):\n",
    "        writeElemLine(inp, i+1, elems[i])"
   ]
  },
  {
   "cell_type": "code",
   "execution_count": null,
   "metadata": {
    "collapsed": true
   },
   "outputs": [],
   "source": []
  },
  {
   "cell_type": "code",
   "execution_count": null,
   "metadata": {
    "collapsed": true
   },
   "outputs": [],
   "source": []
  }
 ],
 "metadata": {
  "kernelspec": {
   "display_name": "Python 3",
   "language": "python",
   "name": "python3"
  },
  "language_info": {
   "codemirror_mode": {
    "name": "ipython",
    "version": 3
   },
   "file_extension": ".py",
   "mimetype": "text/x-python",
   "name": "python",
   "nbconvert_exporter": "python",
   "pygments_lexer": "ipython3",
   "version": "3.6.3"
  }
 },
 "nbformat": 4,
 "nbformat_minor": 2
}

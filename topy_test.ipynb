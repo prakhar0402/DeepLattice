{
 "cells": [
  {
   "cell_type": "code",
   "execution_count": null,
   "metadata": {
    "collapsed": true
   },
   "outputs": [],
   "source": [
    "#import os\n",
    "\n",
    "#codepath = 'topy_test/topy/scripts/optimise.py'\n",
    "#inputpath = 'topy_test/topy/examples/mbb_beam/beam_2d_reci.tpd'\n",
    "\n",
    "#command = 'python ' + codepath + ' ' + inputpath\n",
    "#os.system(command)"
   ]
  },
  {
   "cell_type": "code",
   "execution_count": 1,
   "metadata": {
    "collapsed": true
   },
   "outputs": [],
   "source": [
    "import tpd\n",
    "import os\n",
    "import topy"
   ]
  },
  {
   "cell_type": "code",
   "execution_count": 2,
   "metadata": {
    "collapsed": true
   },
   "outputs": [],
   "source": [
    "import numpy as np\n",
    "import matplotlib.pyplot as plt\n",
    "\n",
    "%matplotlib inline"
   ]
  },
  {
   "cell_type": "code",
   "execution_count": null,
   "metadata": {
    "collapsed": true
   },
   "outputs": [],
   "source": [
    "#codepath = 'topy_test/topy/scripts/optimise.py'\n",
    "inputpath = 'topy_test/topy/examples/mbb_beam/beam_2d_reci.tpd'\n",
    "#inputpath = 'topy_test/topy/examples/dogleg/dogleg_3d_etaopt_gsf.tpd'"
   ]
  },
  {
   "cell_type": "code",
   "execution_count": null,
   "metadata": {
    "collapsed": true
   },
   "outputs": [],
   "source": [
    "t = topy.Topology()\n",
    "t.load_tpd_file(inputpath)\n",
    "t.set_top_params()\n",
    "topy.optimise(t)"
   ]
  },
  {
   "cell_type": "code",
   "execution_count": null,
   "metadata": {},
   "outputs": [],
   "source": [
    "os.system('convert -delay 35 iterations/*.png iterations/anim.gif')"
   ]
  },
  {
   "cell_type": "code",
   "execution_count": null,
   "metadata": {
    "collapsed": true
   },
   "outputs": [],
   "source": [
    "t.topydict"
   ]
  },
  {
   "cell_type": "code",
   "execution_count": 3,
   "metadata": {},
   "outputs": [
    {
     "data": {
      "image/png": "[encoded data removed]",
      "text/plain": [
       "<matplotlib.figure.Figure at 0x7fe5fc091c50>"
      ]
     },
     "metadata": {},
     "output_type": "display_data"
    }
   ],
   "source": [
    "# 2D spherical lattice\n",
    "\n",
    "domainSz = np.array([160, 80]) # in mm\n",
    "\n",
    "cellSz = np.array([20, 20]) # in mm\n",
    "numCells = (domainSz//cellSz).astype(int) # TODO: ensure domainSz is divisible by cellSz\n",
    "\n",
    "voxelSz = np.array([1, 1]) # in mm\n",
    "numVoxels = (cellSz//voxelSz).astype(int) # in each cell/unit\n",
    "\n",
    "paramsDim = 1 # number of parameters for each cell\n",
    "params = 5*np.ones(np.append(numCells, paramsDim))\n",
    "\n",
    "# origin coordinates of cells\n",
    "x_c, y_c = np.meshgrid(range(numCells[0])*cellSz[0], \n",
    "                    range(numCells[1])*cellSz[1], indexing='ij')\n",
    "\n",
    "# voxel center coordinates relative to cell origin\n",
    "x_v, y_v = np.meshgrid(range(numVoxels[0])*voxelSz[0] + voxelSz[0]/2, \n",
    "                    range(numVoxels[1])*voxelSz[1] + voxelSz[1]/2, indexing='ij')\n",
    "\n",
    "field = np.zeros(numCells*numVoxels)\n",
    "holes = np.zeros((np.prod(numCells), 2)) # hole coordinates in the cells, only for this type of cells\n",
    "hh = 0\n",
    "# TODO: make more efficient by doing vectorized computations outside loop\n",
    "for i in range(numCells[0]):\n",
    "    for j in range(numCells[1]):\n",
    "        p = params[i, j]\n",
    "        # voxel center global coordinates\n",
    "        x = x_v + x_c[i, j]\n",
    "        y = y_v + y_c[i, j]\n",
    "        # cell center coordinates\n",
    "        xx = x_c[i, j] + cellSz[0]/2\n",
    "        yy = y_c[i, j] + cellSz[1]/2\n",
    "        holes[hh] = [xx, yy]\n",
    "        hh += 1\n",
    "        # calculate distance field\n",
    "        cell = np.sqrt((x - xx)**2 + (y - yy)**2) - p\n",
    "        field[i*numVoxels[0]:(i+1)*numVoxels[0], \n",
    "              j*numVoxels[1]:(j+1)*numVoxels[1]] += cell\n",
    "        \n",
    "plt.matshow(field.T>=0)\n",
    "plt.colorbar()\n",
    "plt.show()"
   ]
  },
  {
   "cell_type": "code",
   "execution_count": null,
   "metadata": {
    "collapsed": true
   },
   "outputs": [],
   "source": [
    "binimg = field >= 0\n",
    "x = np.sort(np.ravel_multi_index(np.where(binimg == False), domainSz))\n",
    "#print(x)"
   ]
  },
  {
   "cell_type": "code",
   "execution_count": null,
   "metadata": {},
   "outputs": [],
   "source": [
    "field.size"
   ]
  },
  {
   "cell_type": "code",
   "execution_count": null,
   "metadata": {},
   "outputs": [],
   "source": [
    "N_elem = np.prod(binimg.shape)\n",
    "print(len(x))\n",
    "vol_frac = (N_elem - len(x))*1./N_elem\n",
    "print(vol_frac)"
   ]
  },
  {
   "cell_type": "code",
   "execution_count": 4,
   "metadata": {},
   "outputs": [],
   "source": [
    "config = tpd.minimal_tpd_dict()\n",
    "config['PROB_NAME'] = 'sph_lat_test'\n",
    "config['NUM_ELEM_X'] = domainSz[0]\n",
    "config['NUM_ELEM_Y'] = domainSz[1]\n",
    "config['VOL_FRAC'] = np.count_nonzero(field >= 0)*1./field.size\n",
    "config['NUM_ITER'] = 10\n",
    "config['PASV_ELEM'] = tpd.passive_elems(field >= 0)\n",
    "config['FXTR_NODE_Y'] = '1|81'\n",
    "config['FXTR_NODE_X'] = '1|81'\n",
    "config['LOAD_NODE_Y'] = '12961'\n",
    "config['LOAD_VALU_Y'] = '-1'"
   ]
  },
  {
   "cell_type": "code",
   "execution_count": 5,
   "metadata": {},
   "outputs": [],
   "source": [
    "t = topy.Topology()\n",
    "t.load_config_dict(config)\n",
    "t.set_top_params()"
   ]
  },
  {
   "cell_type": "code",
   "execution_count": null,
   "metadata": {},
   "outputs": [],
   "source": [
    "t.topydict"
   ]
  },
  {
   "cell_type": "code",
   "execution_count": 6,
   "metadata": {},
   "outputs": [],
   "source": [
    "topy.optimise(t)"
   ]
  },
  {
   "cell_type": "code",
   "execution_count": null,
   "metadata": {},
   "outputs": [],
   "source": [
    "t.df.shape"
   ]
  },
  {
   "cell_type": "code",
   "execution_count": null,
   "metadata": {},
   "outputs": [],
   "source": [
    "plt.matshow(t.df)\n",
    "plt.colorbar()\n",
    "plt.show()"
   ]
  },
  {
   "cell_type": "code",
   "execution_count": null,
   "metadata": {
    "collapsed": true
   },
   "outputs": [],
   "source": [
    "t.fea()\n",
    "t.sens_analysis()"
   ]
  },
  {
   "cell_type": "code",
   "execution_count": 8,
   "metadata": {},
   "outputs": [],
   "source": [
    "dis = t.d.reshape((161, 81, 2))"
   ]
  },
  {
   "cell_type": "code",
   "execution_count": 9,
   "metadata": {},
   "outputs": [
    {
     "data": {
      "image/png": "[encoded data removed]",
      "text/plain": [
       "<matplotlib.figure.Figure at 0x7fe5f93d1e10>"
      ]
     },
     "metadata": {},
     "output_type": "display_data"
    }
   ],
   "source": [
    "plt.matshow(dis[:, :, 0].T)\n",
    "plt.colorbar()\n",
    "plt.show()"
   ]
  },
  {
   "cell_type": "code",
   "execution_count": 10,
   "metadata": {},
   "outputs": [
    {
     "data": {
      "image/png": "[encoded data removed]",
      "text/plain": [
       "<matplotlib.figure.Figure at 0x7fe5f91f1050>"
      ]
     },
     "metadata": {},
     "output_type": "display_data"
    }
   ],
   "source": [
    "plt.matshow(dis[:, :, 1].T)\n",
    "plt.colorbar()\n",
    "plt.show()"
   ]
  },
  {
   "cell_type": "code",
   "execution_count": null,
   "metadata": {
    "collapsed": true
   },
   "outputs": [],
   "source": []
  }
 ],
 "metadata": {
  "kernelspec": {
   "display_name": "Python 2",
   "language": "python",
   "name": "python2"
  },
  "language_info": {
   "codemirror_mode": {
    "name": "ipython",
    "version": 2
   },
   "file_extension": ".py",
   "mimetype": "text/x-python",
   "name": "python",
   "nbconvert_exporter": "python",
   "pygments_lexer": "ipython2",
   "version": "2.7.13"
  }
 },
 "nbformat": 4,
 "nbformat_minor": 2
}

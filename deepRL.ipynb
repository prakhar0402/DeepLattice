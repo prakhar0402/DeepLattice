{
 "cells": [
  {
   "cell_type": "code",
   "execution_count": 1,
   "metadata": {},
   "outputs": [
    {
     "name": "stderr",
     "output_type": "stream",
     "text": [
      "Using TensorFlow backend.\n"
     ]
    }
   ],
   "source": [
    "import numpy as np\n",
    "\n",
    "from keras.models import model_from_json, load_model\n",
    "from keras.models import Model\n",
    "from keras.layers.core import Dense, Flatten\n",
    "from keras.layers import Convolution2D, merge, MaxPooling2D, Input, Add, Concatenate\n",
    "from keras.optimizers import Adam\n",
    "from keras.layers.normalization import BatchNormalization\n",
    "\n",
    "import tensorflow as tf\n",
    "\n",
    "from collections import deque\n",
    "import random\n",
    "\n",
    "from latticeEnv import Lattice, Domain, TPD\n",
    "import topy"
   ]
  },
  {
   "cell_type": "code",
   "execution_count": 2,
   "metadata": {
    "collapsed": true
   },
   "outputs": [],
   "source": [
    "# Using Deep Deterministic Policy Gradient\n",
    "\n",
    "# Code inspired by: https://github.com/yanpanlau/DDPG-Keras-Torcs\n",
    "\n",
    "class ActorNetwork(object):\n",
    "    \n",
    "    def __init__(self, sess, state_shape, action_size, LR, TAU):\n",
    "        self.sess = sess\n",
    "        self.LR = LR\n",
    "        self.TAU = TAU # Hyperparameter for target network update\n",
    "        \n",
    "        from keras import backend as K\n",
    "        K.set_session(self.sess)\n",
    "        \n",
    "        self.model, self.weights, self.state = self.actor_net(state_shape, action_size)\n",
    "        self.target_model, self.target_weights, self.target_state = self.actor_net(state_shape, action_size)\n",
    "        self.action_gradient = tf.placeholder(tf.float32, [None, action_size])\n",
    "        self.params_grad = tf.gradients(self.model.outputs, self.weights, -self.action_gradient)\n",
    "        grads = zip(self.params_grad, self.weights)\n",
    "        self.optimize = tf.train.AdamOptimizer(self.LR).apply_gradients(grads)\n",
    "        self.sess.run(tf.global_variables_initializer())\n",
    "        \n",
    "    def train(self, states, action_grads):\n",
    "        fd = {i: d for i, d in zip(self.state, states)}\n",
    "        fd[self.action_gradient] = action_grads\n",
    "        self.sess.run(self.optimize, feed_dict=fd)\n",
    "        \n",
    "    def target_train(self):\n",
    "        actor_weights = self.model.get_weights()\n",
    "        actor_target_weights = self.target_model.get_weights()\n",
    "        for i in range(len(actor_weights)):\n",
    "            actor_target_weights[i] = self.TAU * actor_weights[i] + (1 - self.TAU) * actor_target_weights[i]\n",
    "        self.target_model.set_weights(actor_target_weights)\n",
    "        \n",
    "    def actor_net(self, state_shape, action_size):\n",
    "        \"\"\"\n",
    "        Actor Network: State to Action\n",
    "        \n",
    "        State consists of four images - shape, x-displacement, y-displacement, compliance\n",
    "        Action increases/decreases parameters of lattice cells (currently only single parameter for each cell)\n",
    "        \"\"\"\n",
    "        \n",
    "        input1 = Input(shape=state_shape[0])\n",
    "        feat1 = Convolution2D(16, (5, 5), padding='same', activation='relu')(input1)\n",
    "        feat1 = MaxPooling2D(pool_size=(4, 4), strides=(4, 4), padding='same')(feat1)\n",
    "        feat1 = Convolution2D(32, (5, 5), padding='same', activation='relu')(feat1)\n",
    "        feat1 = MaxPooling2D(pool_size=(4, 4), strides=(4, 4), padding='same')(feat1)\n",
    "        feat1 = Flatten()(feat1)\n",
    "        feat1 = Dense(256, activation='relu')(feat1)\n",
    "        \n",
    "        input2 = Input(shape=state_shape[1])\n",
    "        feat2 = Convolution2D(16, (5, 5), padding='same', activation='relu')(input2)\n",
    "        feat2 = MaxPooling2D(pool_size=(4, 4), strides=(4, 4), padding='same')(feat2)\n",
    "        feat2 = Convolution2D(32, (5, 5), padding='same', activation='relu')(feat2)\n",
    "        feat2 = MaxPooling2D(pool_size=(4, 4), strides=(4, 4), padding='same')(feat2)\n",
    "        feat2 = Flatten()(feat2)\n",
    "        feat2 = Dense(256, activation='relu')(feat2)\n",
    "        \n",
    "        input3 = Input(shape=state_shape[2])\n",
    "        feat3 = Convolution2D(16, (5, 5), padding='same', activation='relu')(input3)\n",
    "        feat3 = MaxPooling2D(pool_size=(4, 4), strides=(4, 4), padding='same')(feat3)\n",
    "        feat3 = Convolution2D(32, (5, 5), padding='same', activation='relu')(feat3)\n",
    "        feat3 = MaxPooling2D(pool_size=(4, 4), strides=(4, 4), padding='same')(feat3)\n",
    "        feat3 = Flatten()(feat3)\n",
    "        feat3 = Dense(256, activation='relu')(feat3)\n",
    "        \n",
    "        input4 = Input(shape=state_shape[3])\n",
    "        feat4 = Convolution2D(16, (5, 5), padding='same', activation='relu')(input4)\n",
    "        feat4 = MaxPooling2D(pool_size=(4, 4), strides=(4, 4), padding='same')(feat4)\n",
    "        feat4 = Convolution2D(32, (5, 5), padding='same', activation='relu')(feat4)\n",
    "        feat4 = MaxPooling2D(pool_size=(4, 4), strides=(4, 4), padding='same')(feat4)\n",
    "        feat4 = Flatten()(feat4)\n",
    "        feat4 = Dense(256, activation='relu')(feat4)\n",
    "        \n",
    "        merge_feat = Concatenate()([feat1, feat2, feat3, feat4])\n",
    "        \n",
    "        out = Dense(action_size, activation='tanh')(merge_feat)\n",
    "        \n",
    "        state = [input1, input2, input3, input4]\n",
    "        model = Model(inputs=state, outputs=out)\n",
    "        \n",
    "        return model, model.trainable_weights, state"
   ]
  },
  {
   "cell_type": "code",
   "execution_count": 3,
   "metadata": {
    "collapsed": true
   },
   "outputs": [],
   "source": [
    "class CriticNetwork(object):\n",
    "    \n",
    "    def __init__(self, sess, state_shape, action_size, LR, TAU):\n",
    "        self.sess = sess\n",
    "        self.LR = LR\n",
    "        self.TAU = TAU # Hyperparameter for target network update\n",
    "        \n",
    "        from keras import backend as K\n",
    "        K.set_session(self.sess)\n",
    "        \n",
    "        self.model, self.action, self.state = self.critic_net(state_shape, action_size)\n",
    "        self.target_model, self.target_action, self.target_state = self.critic_net(state_shape, action_size)\n",
    "        self.action_grads = tf.gradients(self.model.outputs, self.action)\n",
    "        self.sess.run(tf.global_variables_initializer())\n",
    "        \n",
    "    def gradients(self, states, actions):\n",
    "        fd = {i: d for i, d in zip(self.state, states)}\n",
    "        fd[self.action] = actions\n",
    "        return self.sess.run(self.action_grads,\n",
    "                             feed_dict=fd)\n",
    "        \n",
    "    def target_train(self):\n",
    "        critic_weights = self.model.get_weights()\n",
    "        critic_target_weights = self.target_model.get_weights()\n",
    "        for i in range(len(critic_weights)):\n",
    "            critic_target_weights[i] = self.TAU * critic_weights[i] + (1 - self.TAU) * critic_target_weights[i]\n",
    "        self.target_model.set_weights(critic_target_weights)\n",
    "        \n",
    "    def critic_net(self, state_shape, action_size):\n",
    "        \"\"\"\n",
    "        Critic Network: State and Action to Q-value\n",
    "        \n",
    "        State consists of four images - shape, x-displacement, y-displacement, compliance\n",
    "        Action increases/decreases parameters of lattice cells (currently only single parameter for each cell)\n",
    "        Q-value estimates the quality of State and Action pair\n",
    "        \"\"\"\n",
    "        \n",
    "        input1 = Input(shape=state_shape[0])\n",
    "        feat1 = Convolution2D(16, (5, 5), padding='same', activation='relu')(input1)\n",
    "        feat1 = MaxPooling2D(pool_size=(4, 4), strides=(4, 4), padding='same')(feat1)\n",
    "        feat1 = Convolution2D(32, (5, 5), padding='same', activation='relu')(feat1)\n",
    "        feat1 = MaxPooling2D(pool_size=(4, 4), strides=(4, 4), padding='same')(feat1)\n",
    "        feat1 = Flatten()(feat1)\n",
    "        feat1 = Dense(256, activation='relu')(feat1)\n",
    "        \n",
    "        input2 = Input(shape=state_shape[1])\n",
    "        feat2 = Convolution2D(16, (5, 5), padding='same', activation='relu')(input2)\n",
    "        feat2 = MaxPooling2D(pool_size=(4, 4), strides=(4, 4), padding='same')(feat2)\n",
    "        feat2 = Convolution2D(32, (5, 5), padding='same', activation='relu')(feat2)\n",
    "        feat2 = MaxPooling2D(pool_size=(4, 4), strides=(4, 4), padding='same')(feat2)\n",
    "        feat2 = Flatten()(feat2)\n",
    "        feat2 = Dense(256, activation='relu')(feat2)\n",
    "        \n",
    "        input3 = Input(shape=state_shape[2])\n",
    "        feat3 = Convolution2D(16, (5, 5), padding='same', activation='relu')(input3)\n",
    "        feat3 = MaxPooling2D(pool_size=(4, 4), strides=(4, 4), padding='same')(feat3)\n",
    "        feat3 = Convolution2D(32, (5, 5), padding='same', activation='relu')(feat3)\n",
    "        feat3 = MaxPooling2D(pool_size=(4, 4), strides=(4, 4), padding='same')(feat3)\n",
    "        feat3 = Flatten()(feat3)\n",
    "        feat3 = Dense(256, activation='relu')(feat3)\n",
    "        \n",
    "        input4 = Input(shape=state_shape[3])\n",
    "        feat4 = Convolution2D(16, (5, 5), padding='same', activation='relu')(input4)\n",
    "        feat4 = MaxPooling2D(pool_size=(4, 4), strides=(4, 4), padding='same')(feat4)\n",
    "        feat4 = Convolution2D(32, (5, 5), padding='same', activation='relu')(feat4)\n",
    "        feat4 = MaxPooling2D(pool_size=(4, 4), strides=(4, 4), padding='same')(feat4)\n",
    "        feat4 = Flatten()(feat4)\n",
    "        feat4 = Dense(256, activation='relu')(feat4)\n",
    "        \n",
    "        state_feat = Concatenate()([feat1, feat2, feat3, feat4])\n",
    "        \n",
    "        action = Input(shape=[action_size])\n",
    "        action_feat = Dense(256*4, activation='linear')(action)\n",
    "        \n",
    "        combined_feat = Add()([state_feat, action_feat])\n",
    "        combined_feat = Dense(256, activation='relu')(combined_feat)\n",
    "        \n",
    "        out = Dense(1, activation='linear')(combined_feat)\n",
    "        \n",
    "        state = [input1, input2, input3, input4]\n",
    "        model = Model(inputs=state + [action], outputs=out)\n",
    "        \n",
    "        model.compile(loss='mean_squared_error', optimizer=Adam(lr = self.LR))\n",
    "        \n",
    "        return model, action, state"
   ]
  },
  {
   "cell_type": "code",
   "execution_count": 4,
   "metadata": {
    "collapsed": true
   },
   "outputs": [],
   "source": [
    "class ReplayBuffer(object):\n",
    "\n",
    "    def __init__(self, buffer_size):\n",
    "        self.buffer_size = buffer_size\n",
    "        self.num_experiences = 0\n",
    "        self.buffer = deque()\n",
    "\n",
    "    def getBatch(self, batch_size):\n",
    "        # Randomly sample batch_size examples\n",
    "        if self.num_experiences < batch_size:\n",
    "            return random.sample(self.buffer, self.num_experiences)\n",
    "        else:\n",
    "            return random.sample(self.buffer, batch_size)\n",
    "\n",
    "    def size(self):\n",
    "        return self.buffer_size\n",
    "\n",
    "    def add(self, state, action, reward, new_state):\n",
    "        experience = (state, action, reward, new_state)\n",
    "        if self.num_experiences < self.buffer_size:\n",
    "            self.buffer.append(experience)\n",
    "            self.num_experiences += 1\n",
    "        else:\n",
    "            self.buffer.popleft()\n",
    "            self.buffer.append(experience)\n",
    "\n",
    "    def count(self):\n",
    "        # if buffer is full, return buffer size\n",
    "        # otherwise, return experience counter\n",
    "        return self.num_experiences\n",
    "\n",
    "    def erase(self):\n",
    "        self.buffer = deque()\n",
    "        self.num_experiences = 0"
   ]
  },
  {
   "cell_type": "code",
   "execution_count": 5,
   "metadata": {},
   "outputs": [
    {
     "name": "stdout",
     "output_type": "stream",
     "text": [
      "Episode: 0\n",
      "Step: 0\n",
      "Step: 1\n",
      "Step: 2\n",
      "Step: 3\n",
      "Step: 4\n",
      "Step: 5\n",
      "Step: 6\n",
      "Step: 7\n",
      "Step: 8\n",
      "Step: 9\n",
      "Step: 10\n",
      "Step: 11\n",
      "Step: 12\n",
      "Step: 13\n",
      "Step: 14\n",
      "Step: 15\n",
      "Total reward: -0.0613944352881, Loss: 38.6196022034\n",
      "\n",
      "Episode: 1\n",
      "Step: 0\n",
      "Step: 1\n",
      "Step: 2\n",
      "Step: 3\n",
      "Step: 4\n",
      "Step: 5\n",
      "Step: 6\n",
      "Step: 7\n",
      "Step: 8\n",
      "Step: 9\n",
      "Step: 10\n",
      "Step: 11\n",
      "Step: 12\n",
      "Step: 13\n",
      "Step: 14\n",
      "Step: 15\n",
      "Total reward: -0.0930826397422, Loss: 0.0294322855771\n",
      "\n",
      "Fin.\n"
     ]
    }
   ],
   "source": [
    "BUFFER_SIZE = 16\n",
    "BATCH_SIZE = 4\n",
    "GAMMA = 0.99\n",
    "TAU = 0.001     #Target Network HyperParameters\n",
    "LRA = 0.0001    #Learning rate for Actor\n",
    "LRC = 0.001     #Lerning rate for Critic\n",
    "EXPLORE = 100000. ## TODO ##\n",
    "\n",
    "np.random.seed(0)\n",
    "\n",
    "episode_count = 2\n",
    "max_steps = 16\n",
    "fea_step = 8 # perform FEA computation after these many steps\n",
    "epsilon = 1. ## TODO ##\n",
    "\n",
    "#Tensorflow GPU optimization # TODO currently running on CPU\n",
    "config = tf.ConfigProto()\n",
    "sess = tf.Session(config=config)\n",
    "from keras import backend as K\n",
    "K.set_session(sess)\n",
    "\n",
    "# Initialize Lattice environment in the domain\n",
    "domainSz = np.array([128, 96])\n",
    "cellSz = np.array([16, 16]) # ensure domainSz is divisible by cellSz\n",
    "env = Lattice(domainSz, cellSz) ## TODO ## Just initialize variable\n",
    "state_shapes = env.state_shapes\n",
    "action_size = env.action_size\n",
    "\n",
    "actor = ActorNetwork(sess, state_shapes, action_size, LRA, TAU)\n",
    "critic = CriticNetwork(sess, state_shapes, action_size, LRC, TAU)\n",
    "buff = ReplayBuffer(BUFFER_SIZE)\n",
    "\n",
    "# TODO load saved weights\n",
    "\n",
    "for i in range(episode_count):\n",
    "    print(\"Episode: \" + str(i))\n",
    "    \n",
    "    domain = env.reset() ## TODO ## return random initial state as object of domain class\n",
    "    s_t = [domain.bin_img, domain.dispX, domain.dispY, domain.comp] # check to see if batch dim added correctly\n",
    "    \n",
    "    total_reward = 0.\n",
    "    for j in range(max_steps):\n",
    "        print(\"Step: \" + str(j))\n",
    "        loss = 0\n",
    "        \n",
    "        a_t = actor.model.predict([e[np.newaxis, :] for e in s_t])\n",
    "        \n",
    "        # TODO add noise to action\n",
    "        \n",
    "        domain, r_t = env.step(a_t[0], np.mod(j, fea_step) == 0) ## TODO ## take action on current state\n",
    "        s_t1 = [domain.bin_img, domain.dispX, domain.dispY, domain.comp]\n",
    "        \n",
    "        buff.add(s_t, a_t[0], r_t, s_t1)\n",
    "        \n",
    "        batch = buff.getBatch(BATCH_SIZE)\n",
    "        states = [np.asarray([e[0][k] for e in batch]) for k in range(4)]\n",
    "        actions = np.asarray([e[1] for e in batch])\n",
    "        rewards = np.asarray([e[2] for e in batch])\n",
    "        new_states = [np.asarray([e[3][k] for e in batch]) for k in range(4)]\n",
    "        q_t = np.asarray([e[2] for e in batch])\n",
    "        \n",
    "        target_q_values = critic.target_model.predict(new_states + [actor.target_model.predict(new_states)])\n",
    "        \n",
    "        q_t = rewards[:, np.newaxis] + GAMMA*target_q_values\n",
    "        \n",
    "        ## TODO ## check training vs testing\n",
    "        loss += critic.model.train_on_batch(states + [actions], q_t)\n",
    "        temp_actions = actor.model.predict(states) ## TODO ## why can't just use actions? noise?\n",
    "        grads = critic.gradients(states, temp_actions)[0]\n",
    "        actor.train(states, grads)\n",
    "        actor.target_train()\n",
    "        critic.target_train()\n",
    "        \n",
    "        total_reward += r_t\n",
    "        s_t = s_t1\n",
    "        \n",
    "    print(\"Total reward: \" + str(total_reward) + \", Loss: \" + str(loss))\n",
    "    print(\"\")\n",
    "\n",
    "env.end() ## TODO ## End the run - save the resulting lattice?\n",
    "print(\"Fin.\")"
   ]
  },
  {
   "cell_type": "code",
   "execution_count": 6,
   "metadata": {
    "collapsed": true
   },
   "outputs": [],
   "source": [
    "import matplotlib.pyplot as plt\n",
    "\n",
    "%matplotlib inline"
   ]
  },
  {
   "cell_type": "code",
   "execution_count": 7,
   "metadata": {},
   "outputs": [
    {
     "data": {
      "text/plain": [
       "(128, 96, 1)"
      ]
     },
     "execution_count": 7,
     "metadata": {},
     "output_type": "execute_result"
    }
   ],
   "source": [
    "domain.bin_img.shape"
   ]
  },
  {
   "cell_type": "code",
   "execution_count": 8,
   "metadata": {},
   "outputs": [
    {
     "data": {
      "image/png": "[encoded data removed]",
      "text/plain": [
       "<matplotlib.figure.Figure at 0x7f4a5c69dc90>"
      ]
     },
     "metadata": {},
     "output_type": "display_data"
    }
   ],
   "source": [
    "plt.matshow(domain.bin_img[:, :, 0].T)\n",
    "plt.colorbar()\n",
    "plt.show()"
   ]
  },
  {
   "cell_type": "code",
   "execution_count": 9,
   "metadata": {},
   "outputs": [
    {
     "data": {
      "image/png": "[encoded data removed]",
      "text/plain": [
       "<matplotlib.figure.Figure at 0x7f4a49f19e10>"
      ]
     },
     "metadata": {},
     "output_type": "display_data"
    }
   ],
   "source": [
    "plt.matshow(domain.dispX[:, :, 0].T)\n",
    "plt.colorbar()\n",
    "plt.show()"
   ]
  },
  {
   "cell_type": "code",
   "execution_count": 10,
   "metadata": {},
   "outputs": [
    {
     "data": {
      "image/png": "[encoded data removed]",
      "text/plain": [
       "<matplotlib.figure.Figure at 0x7f4a5c60e290>"
      ]
     },
     "metadata": {},
     "output_type": "display_data"
    }
   ],
   "source": [
    "plt.matshow(domain.dispY[:, :, 0].T)\n",
    "plt.colorbar()\n",
    "plt.show()"
   ]
  },
  {
   "cell_type": "code",
   "execution_count": 14,
   "metadata": {},
   "outputs": [
    {
     "data": {
      "image/png": "[encoded data removed]",
      "text/plain": [
       "<matplotlib.figure.Figure at 0x7f49cb7cff50>"
      ]
     },
     "metadata": {},
     "output_type": "display_data"
    }
   ],
   "source": [
    "plt.matshow(domain.comp[:, :, 0].T)\n",
    "plt.colorbar()\n",
    "plt.show()"
   ]
  },
  {
   "cell_type": "code",
   "execution_count": null,
   "metadata": {
    "collapsed": true
   },
   "outputs": [],
   "source": []
  }
 ],
 "metadata": {
  "kernelspec": {
   "display_name": "Python 2",
   "language": "python",
   "name": "python2"
  },
  "language_info": {
   "codemirror_mode": {
    "name": "ipython",
    "version": 2
   },
   "file_extension": ".py",
   "mimetype": "text/x-python",
   "name": "python",
   "nbconvert_exporter": "python",
   "pygments_lexer": "ipython2",
   "version": "2.7.13"
  }
 },
 "nbformat": 4,
 "nbformat_minor": 2
}
